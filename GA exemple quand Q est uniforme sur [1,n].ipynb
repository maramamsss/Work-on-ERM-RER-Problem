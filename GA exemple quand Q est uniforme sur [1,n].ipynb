{
 "cells": [
  {
   "cell_type": "code",
   "execution_count": 9,
   "metadata": {},
   "outputs": [
    {
     "name": "stdout",
     "output_type": "stream",
     "text": [
      "[(0, 0), (1, 1), (2, 0), (3, 1), (4, 0), (5, 1), (6, 0), (7, 1), (8, 0), (9, 1)]\n",
      "1 5\n",
      "2 7\n",
      "3 9\n"
     ]
    },
    {
     "data": {
      "text/plain": [
       "0.3"
      ]
     },
     "execution_count": 9,
     "metadata": {},
     "output_type": "execute_result"
    }
   ],
   "source": [
    "\"\"\"L'objectif est de calculer les Expected Empirical Risks de différents GA sur le dataset aggrégé \"\"\"\n",
    "\n",
    "#paramètres\n",
    "\n",
    "m = 10 #le cardinal de X \n",
    "\n",
    "#input\n",
    "\n",
    "z0 = [(i,i%2) for i in range(m)]\n",
    "z1 = []    #les différents dataset\n",
    "z2 = []\n",
    "\n",
    "\n",
    "#on défnit l'approximation de O de paramètre theta, on rappel que O est l'indicatrice d'une partie de \n",
    "#X et theta l'indicatrice d'une parti de X implémenté sous forme de vecteur de 0 et de 1 \n",
    "\n",
    "def approximation(theta,x):   \n",
    "    return theta[x]\n",
    "\n",
    "#on définit la loss function\n",
    "\n",
    "def loss_function(y1,y2):\n",
    "    return (y1 == y2)\n",
    "\n",
    "#on définit le risque empirique\n",
    "\n",
    "def empirical_risk(theta,z):\n",
    "    n = len(z)\n",
    "    res = 0\n",
    "    for i in range(n):\n",
    "        xi = z[i][0]\n",
    "        yi = z[i][1]\n",
    "        if approximation(theta,xi) != yi:\n",
    "            res += 1\n",
    "            print(res,i)\n",
    "    return (res/n)\n",
    "\n",
    "#on implémente une fonction qui résoud le problème ERM\n",
    "\n",
    "def solve_ERM(z):\n",
    "    M = []\n",
    "    \n"
   ]
  },
  {
   "cell_type": "code",
   "execution_count": null,
   "metadata": {},
   "outputs": [],
   "source": [
    "def factorial(n):\n",
    "    if n == 0:\n",
    "        return 1\n",
    "    else:\n",
    "        return n * factorial(n-1)\n"
   ]
  }
 ],
 "metadata": {
  "kernelspec": {
   "display_name": "Python 3",
   "language": "python",
   "name": "python3"
  },
  "language_info": {
   "codemirror_mode": {
    "name": "ipython",
    "version": 3
   },
   "file_extension": ".py",
   "mimetype": "text/x-python",
   "name": "python",
   "nbconvert_exporter": "python",
   "pygments_lexer": "ipython3",
   "version": "3.7.4"
  },
  "orig_nbformat": 4
 },
 "nbformat": 4,
 "nbformat_minor": 2
}
