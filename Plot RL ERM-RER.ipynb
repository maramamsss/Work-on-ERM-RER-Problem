{
 "cells": [
  {
   "cell_type": "code",
   "execution_count": 1,
   "metadata": {},
   "outputs": [],
   "source": [
    "\"\"\"Algorithme de Gibbs : régression linéaire\n",
    "\n",
    "Objectif : tracer la densité de la solution au problème ERM-RER\n",
    "\n",
    "\"\"\"\n",
    "\n",
    "import numpy as np\n",
    "import scipy as sp\n",
    "\n",
    "l = 1  #lambda le paramètre qui pondère l'espérance du risque empirique et l'entropie relative de la solution par rapport à la mesure de Lebesgue\n",
    "\n",
    "\n",
    "\"\"\"On commence par coder le risque empirique\"\"\"\n",
    "\n",
    "def L(z,theta):\n",
    "    n = len(z)\n",
    "    res = 0\n",
    "    for i in range(n):\n",
    "        res += (theta[0]*z[i][0]+theta[1]-z[i][1])**2\n",
    "    return res\n",
    "\n",
    "\"\"\" Si Q est la mesure de Lebesgue, la solution admet une densité proportionnelle à exp(-L(z,theta)/l)\"\"\"\n",
    "\n",
    "\n",
    "\n",
    "def solution(z,l,theta):\n",
    "    return  np.exp(-L(z,theta)/l)\n",
    "\n",
    "\n",
    "\n"
   ]
  },
  {
   "cell_type": "code",
   "execution_count": 11,
   "metadata": {},
   "outputs": [
    {
     "data": {
      "text/plain": [
       "6.998168281769004e-37"
      ]
     },
     "execution_count": 11,
     "metadata": {},
     "output_type": "execute_result"
    }
   ],
   "source": [
    "\"\"\"On input le dataset\"\"\"\n",
    "\n",
    "z = [(1,3),(3,7),(2,5),(0,0.5)]\n",
    "\n",
    "solution(z,l,(0,0))\n",
    "\n",
    "\n"
   ]
  },
  {
   "cell_type": "code",
   "execution_count": 12,
   "metadata": {},
   "outputs": [],
   "source": [
    "\"\"\"On on crée une matrice telle que le coefficient de coordonnées (i,j) soit la valeur de la densité de la solution pour theta = (i,j)\"\"\"\n",
    "\n",
    "import matplotlib\n",
    "\n",
    "m = 10 #pas\n",
    "\n",
    "M = np.zeros((2*m+1,2*m+1))\n",
    "\n",
    "for i in range(2*m+1):\n",
    "    for j in range(2*m+1):\n",
    "        M[i][j] = solution(z,l,(i-m,j-m))\n",
    "\n"
   ]
  },
  {
   "cell_type": "code",
   "execution_count": 13,
   "metadata": {},
   "outputs": [
    {
     "data": {
      "image/png": "[encoded data removed]",
      "text/plain": [
       "<Figure size 432x288 with 2 Axes>"
      ]
     },
     "metadata": {},
     "output_type": "display_data"
    },
    {
     "name": "stdout",
     "output_type": "stream",
     "text": [
      "0.7788007830714049 (12, 11)\n"
     ]
    }
   ],
   "source": [
    "import pandas as pd\n",
    "import numpy as np\n",
    "import seaborn as sns\n",
    "import matplotlib.pyplot as plt\n",
    "\n",
    "sns.set()\n",
    "ax = sns.heatmap(M)\n",
    "plt.show()\n",
    "\n",
    "max = M[0][0]\n",
    "coord = (0,0)\n",
    "for i in range(2*m+1):\n",
    "    for j in range(2*m+1):\n",
    "        if M[i][j] > max:\n",
    "            max = M[i][j]\n",
    "            coord = (i,j)\n",
    "print(max,coord)"
   ]
  },
  {
   "cell_type": "code",
   "execution_count": null,
   "metadata": {},
   "outputs": [],
   "source": []
  }
 ],
 "metadata": {
  "kernelspec": {
   "display_name": "base",
   "language": "python",
   "name": "python3"
  },
  "language_info": {
   "codemirror_mode": {
    "name": "ipython",
    "version": 3
   },
   "file_extension": ".py",
   "mimetype": "text/x-python",
   "name": "python",
   "nbconvert_exporter": "python",
   "pygments_lexer": "ipython3",
   "version": "3.9.12"
  },
  "orig_nbformat": 4
 },
 "nbformat": 4,
 "nbformat_minor": 2
}
